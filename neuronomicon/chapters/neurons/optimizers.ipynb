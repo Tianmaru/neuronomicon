{
 "cells": [
  {
   "cell_type": "markdown",
   "id": "fd1e4bdf-cbba-45f1-8c86-99c5c7ae6958",
   "metadata": {},
   "source": [
    "# Optimizers\n",
    "\n",
    "*Author: Bjarne Hiller*\n",
    "\n",
    "*Date: 20-10-2023*"
   ]
  },
  {
   "cell_type": "markdown",
   "id": "1b2267d3-e7ef-4476-b928-a750d10f6318",
   "metadata": {},
   "source": [
    "**Objective**:\n",
    "\n",
    "- Gain a better understanding of the different optimizer strategies!\n",
    "\n",
    "**Methodology**:\n",
    "\n",
    "- define a simple CNN model for the MNIST dataset\n",
    "- compare the train loss for different optimizers\n",
    "- reimplement the optimizers"
   ]
  },
  {
   "cell_type": "markdown",
   "id": "07d9a704-9bf3-41c9-96ad-fa78d989426a",
   "metadata": {},
   "source": [
    "# Loading the MNIST Dataset"
   ]
  },
  {
   "cell_type": "code",
   "execution_count": 1,
   "id": "ec1d2008-9f3d-4507-b5cd-71a2d401b19b",
   "metadata": {},
   "outputs": [
    {
     "data": {
      "text/plain": [
       "<torch._C.Generator at 0x7fe4ada74930>"
      ]
     },
     "execution_count": 1,
     "metadata": {},
     "output_type": "execute_result"
    }
   ],
   "source": [
    "import torch\n",
    "import torch.optim as optim\n",
    "import torch.nn as nn\n",
    "import torch.nn.functional as F\n",
    "import torchvision\n",
    "\n",
    "torch.manual_seed(19)"
   ]
  },
  {
   "cell_type": "code",
   "execution_count": 2,
   "id": "63a0c8c1-6b53-4745-8b10-9a939c68fe28",
   "metadata": {},
   "outputs": [],
   "source": [
    "from torch.utils.data import DataLoader\n",
    "from torchvision.datasets import MNIST\n",
    "from torchvision.transforms import Compose, ToTensor, Normalize\n",
    "# download and load mnist datasets\n",
    "\n",
    "data_path = \"data/mnist/\"\n",
    "batch_size = 64\n",
    "\n",
    "transform = Compose([\n",
    "    ToTensor(),\n",
    "    # global mean and standard deviation of the MNIST dataset\n",
    "    Normalize((0.1307,), (0.3081,))\n",
    "])\n",
    "\n",
    "train_ds = MNIST(data_path, train=True, download=True, transform=transform)\n",
    "train_dl = DataLoader(train_ds, batch_size=batch_size, shuffle=True)\n",
    "\n",
    "test_ds =  MNIST(data_path, train=False, download=True, transform=transform)\n",
    "test_dl = DataLoader(test_ds, batch_size=batch_size, shuffle=True)"
   ]
  },
  {
   "cell_type": "code",
   "execution_count": 3,
   "id": "83699fe3-4cb0-4e10-9573-893c69d4706f",
   "metadata": {},
   "outputs": [
    {
     "data": {
      "image/png": "[encoded data removed]",
      "text/plain": [
       "<Figure size 432x288 with 1 Axes>"
      ]
     },
     "metadata": {
      "needs_background": "light"
     },
     "output_type": "display_data"
    }
   ],
   "source": [
    "import matplotlib.pyplot as plt\n",
    "\n",
    "# let's plot the first sample\n",
    "x, y = train_ds[0]\n",
    "plt.imshow(x.squeeze(), cmap=\"binary\")\n",
    "plt.title(f\"label: {y}\")\n",
    "plt.show()"
   ]
  },
  {
   "cell_type": "markdown",
   "id": "b39d7721-e210-4030-8e35-9b5132a2ada3",
   "metadata": {},
   "source": [
    "# Defining the Model"
   ]
  },
  {
   "cell_type": "code",
   "execution_count": 4,
   "id": "23b74497-729c-471e-ade4-8a310bf3c543",
   "metadata": {},
   "outputs": [],
   "source": [
    "class CNN(nn.Module):\n",
    "    def __init__(self):\n",
    "        super().__init__()\n",
    "        self.conv1 = nn.Conv2d(1,16,5)\n",
    "        self.conv2 = nn.Conv2d(16,16,5)\n",
    "        self.linear1 = nn.Linear(256, 64)\n",
    "        self.linear2 = nn.Linear(64, 10)\n",
    "\n",
    "    def forward(self, x):\n",
    "        # (batch, 1, 28, 28)\n",
    "        x = self.conv1(x)\n",
    "        x = F.relu(F.max_pool2d(x, 2))\n",
    "        # (batch, 16, 12, 12)\n",
    "        x = self.conv2(x)\n",
    "        x = F.relu(F.max_pool2d(x, 2))\n",
    "        # (batch, 16, 4, 4)\n",
    "        x = x.view(-1, 256)\n",
    "        x = self.linear1(x)\n",
    "        x = F.relu(x)\n",
    "        x = self.linear2(x)\n",
    "        # no relu on last layer: this are our predictions!\n",
    "        return x"
   ]
  },
  {
   "cell_type": "code",
   "execution_count": 5,
   "id": "f5a80d67-14f0-48d1-b1f4-ca1a650d24d5",
   "metadata": {},
   "outputs": [
    {
     "data": {
      "text/plain": [
       "tensor([[-0.0669, -0.0022,  0.0134, -0.0720,  0.1956, -0.1237,  0.1112, -0.2671,\n",
       "          0.0916, -0.1654]], grad_fn=<AddmmBackward0>)"
      ]
     },
     "execution_count": 5,
     "metadata": {},
     "output_type": "execute_result"
    }
   ],
   "source": [
    "# quick check if the model works\n",
    "model = CNN()\n",
    "model(x.unsqueeze(0))"
   ]
  },
  {
   "cell_type": "code",
   "execution_count": 6,
   "id": "9e096b21-06b8-4273-bf53-984813d2027e",
   "metadata": {},
   "outputs": [],
   "source": [
    "from torchmetrics import Accuracy\n",
    "\n",
    "def train(model, optimizer, dl):\n",
    "    model.train()\n",
    "    ls = []\n",
    "    criterion = nn.CrossEntropyLoss()\n",
    "    for X, y in dl:\n",
    "        y_hat = model(X)\n",
    "        loss = criterion(y_hat, y)\n",
    "        ls.append(loss.item())\n",
    "        loss.backward()\n",
    "        optimizer.step()\n",
    "        optimizer.zero_grad()\n",
    "    return ls\n",
    "\n",
    "@torch.no_grad()\n",
    "def test(model, dl):\n",
    "    model.eval()\n",
    "    acc = Accuracy(\"multiclass\", num_classes=10)\n",
    "    for X, y in dl:\n",
    "         y_hat = model(X)\n",
    "         acc(y_hat, y)\n",
    "    return acc.compute().item()"
   ]
  },
  {
   "cell_type": "markdown",
   "id": "7ce28a70-6673-4e2b-b52e-3f1b3ce7dcf5",
   "metadata": {},
   "source": [
    "# Comparing Optimizers"
   ]
  },
  {
   "cell_type": "code",
   "execution_count": 7,
   "id": "81996c0b-b66e-4de9-8544-25bc329d8ba0",
   "metadata": {},
   "outputs": [
    {
     "name": "stdout",
     "output_type": "stream",
     "text": [
      "OPTIMIZER: SGD\n"
     ]
    },
    {
     "data": {
      "application/vnd.jupyter.widget-view+json": {
       "model_id": "51f122abc1a64c96b1fc191710d3a54f",
       "version_major": 2,
       "version_minor": 0
      },
      "text/plain": [
       "  0%|          | 0/3 [00:00<?, ?it/s]"
      ]
     },
     "metadata": {},
     "output_type": "display_data"
    },
    {
     "name": "stdout",
     "output_type": "stream",
     "text": [
      "test accuracy: 0.8766000270843506\n",
      "---------------------------------------------------------\n",
      "OPTIMIZER: AdaGrad\n"
     ]
    },
    {
     "data": {
      "application/vnd.jupyter.widget-view+json": {
       "model_id": "5da86ee066534311a3a16c4a2ed77194",
       "version_major": 2,
       "version_minor": 0
      },
      "text/plain": [
       "  0%|          | 0/3 [00:00<?, ?it/s]"
      ]
     },
     "metadata": {},
     "output_type": "display_data"
    },
    {
     "name": "stdout",
     "output_type": "stream",
     "text": [
      "test accuracy: 0.929099977016449\n",
      "---------------------------------------------------------\n",
      "OPTIMIZER: RMSprop\n"
     ]
    },
    {
     "data": {
      "application/vnd.jupyter.widget-view+json": {
       "model_id": "4e70f744eeb44ac496775f3d0b734041",
       "version_major": 2,
       "version_minor": 0
      },
      "text/plain": [
       "  0%|          | 0/3 [00:00<?, ?it/s]"
      ]
     },
     "metadata": {},
     "output_type": "display_data"
    },
    {
     "name": "stdout",
     "output_type": "stream",
     "text": [
      "test accuracy: 0.9887999892234802\n",
      "---------------------------------------------------------\n",
      "OPTIMIZER: Adam\n"
     ]
    },
    {
     "data": {
      "application/vnd.jupyter.widget-view+json": {
       "model_id": "31424aea0e4441699faa41a359703e38",
       "version_major": 2,
       "version_minor": 0
      },
      "text/plain": [
       "  0%|          | 0/3 [00:00<?, ?it/s]"
      ]
     },
     "metadata": {},
     "output_type": "display_data"
    },
    {
     "name": "stdout",
     "output_type": "stream",
     "text": [
      "test accuracy: 0.9854999780654907\n",
      "---------------------------------------------------------\n"
     ]
    }
   ],
   "source": [
    "import copy\n",
    "from tqdm.notebook import trange, tqdm\n",
    "\n",
    "epochs = 3\n",
    "lr = 1e-3\n",
    "\n",
    "model = CNN()\n",
    "# need to deepcopy the state_dict to fully detach it from the model\n",
    "init_state = copy.deepcopy(model.state_dict())\n",
    "\n",
    "optimizers = {\n",
    "    \"SGD\": optim.SGD(model.parameters(), lr=lr),\n",
    "    \"AdaGrad\": optim.Adagrad(model.parameters(), lr=lr),\n",
    "    \"RMSprop\": optim.RMSprop(model.parameters(), lr=lr),\n",
    "    \"Adam\": optim.Adam(model.parameters(), lr=lr),\n",
    "}\n",
    "\n",
    "ls = {}\n",
    "for opt_name, optimizer in optimizers.items():\n",
    "    print(f\"OPTIMIZER: {opt_name}\")\n",
    "    # reset model\n",
    "    model.load_state_dict(init_state)\n",
    "    ls[opt_name] = []\n",
    "    for epoch in trange(epochs):\n",
    "        ls[opt_name] += train(model, optimizer, train_dl)\n",
    "    acc = test(model, test_dl)\n",
    "    print(f\"test accuracy: {acc}\")\n",
    "    print(\"---\" * 19)"
   ]
  },
  {
   "cell_type": "code",
   "execution_count": 8,
   "id": "6c5f9451-7b07-4300-89d2-db0e551c0188",
   "metadata": {},
   "outputs": [
    {
     "data": {
      "image/png": "[encoded data removed]",
      "text/plain": [
       "<Figure size 432x288 with 1 Axes>"
      ]
     },
     "metadata": {
      "needs_background": "light"
     },
     "output_type": "display_data"
    }
   ],
   "source": [
    "for opt_name, l in ls.items():\n",
    "    plt.plot(l, label=opt_name)\n",
    "plt.legend()\n",
    "plt.title(\"MNIST Train Losses for different Optimizers\")\n",
    "plt.xlabel(\"Train Step\")\n",
    "plt.ylabel(\"Cross Entropy Loss\")\n",
    "plt.show()"
   ]
  },
  {
   "cell_type": "markdown",
   "id": "8826f82f-f142-4c79-9564-06441f58521d",
   "metadata": {},
   "source": [
    "# Re-Implementing the Optimizers"
   ]
  },
  {
   "cell_type": "markdown",
   "id": "0cde30fd-8cab-404e-94ec-8e5a61f5465b",
   "metadata": {},
   "source": [
    "- see Ruder (2017): [An overview of gradient descent optimization algorithms](https://arxiv.org/pdf/1609.04747.pdf)\n",
    "- https://www.ruder.io/optimizing-gradient-descent/"
   ]
  },
  {
   "cell_type": "code",
   "execution_count": 9,
   "id": "aa74c701-1755-4b20-b5e4-26f71b348750",
   "metadata": {},
   "outputs": [],
   "source": [
    "class Optimizer:\n",
    "    def __init__(self, params, lr=1e-4, momentum=0):\n",
    "        # model.parameters() returns iterator, store as list\n",
    "        self.params = list(params)\n",
    "        self.lr = lr\n",
    "\n",
    "    def zero_grad(self):\n",
    "        for param in self.params:\n",
    "            param.grad = None\n",
    "\n",
    "    # disable gradient since we overwrite leaf variables\n",
    "    @torch.no_grad()\n",
    "    def step(self):\n",
    "        raise NotImplementedError"
   ]
  },
  {
   "cell_type": "markdown",
   "id": "2cf27d88-865d-4a53-b393-42c03fc1fa58",
   "metadata": {},
   "source": [
    "## Stochastic Gradient Descent (SGD)\n",
    "\n",
    "- plain Gradient Descent might become computationally infeasible for large datasets\n",
    "- sample a subset of the whole dataset\n",
    "- perform Gradient Descent on Subset\n",
    "\n",
    "$\\theta \\leftarrow \\theta - \\alpha \\nabla_\\theta f(\\theta)$"
   ]
  },
  {
   "cell_type": "code",
   "execution_count": 10,
   "id": "b2963616-9d80-4d90-b3dc-c2d810fff90f",
   "metadata": {},
   "outputs": [],
   "source": [
    "class SGD(Optimizer):\n",
    "    # disable gradient since we overwrite a leaf variable\n",
    "    @torch.no_grad()\n",
    "    def step(self):\n",
    "        for param in self.params:\n",
    "            param -= self.lr * param.grad"
   ]
  },
  {
   "cell_type": "markdown",
   "id": "5fd73ec3-d64d-4099-b657-374ca83a225f",
   "metadata": {},
   "source": [
    "## AdaGrad (**Ada**ptive **Grad**ients):\n",
    "\n",
    "- Duchi et al. (2011): [\"Adaptive Subgradient Methods for Online Learning and Stochastic Optimization\"](https://www.jmlr.org/papers/volume12/duchi11a/duchi11a.pdf)\n",
    "- often, high-dimensional data is sparse: only a few non-zero features in each sample\n",
    "- infrequent features are usually highly informative, but associated parameters only receive occasional updates\n",
    "- therefore, would need different learning rates for each feature\n",
    "- AdaGrad regards geometry of the data\n",
    "- low learning rate for frequent feature, high learning rate for rare features\n",
    "- problem: initially large gradients can slow down updates for the remaining training\n",
    "- problem: accumalation of all gradients can reduce updates too much"
   ]
  },
  {
   "cell_type": "code",
   "execution_count": 11,
   "id": "30cb6a34-35db-43f3-bc28-6a7d7b0eec60",
   "metadata": {},
   "outputs": [],
   "source": [
    "class AdaGrad(Optimizer):\n",
    "    def __init__(self, params, lr=1e-4, momentum=0, epsilon=1e-8):\n",
    "        super().__init__(params, lr, momentum)\n",
    "        self.G = [0] * len(self.params)\n",
    "        self.epsilon = epsilon\n",
    "    \n",
    "    @torch.no_grad()\n",
    "    def step(self):\n",
    "        for i, param in enumerate(self.params):\n",
    "            # add gradients \n",
    "            self.G[i] += param.grad * param.grad\n",
    "            param -= self.lr * param.grad / (self.epsilon + torch.sqrt(self.G[i]))"
   ]
  },
  {
   "cell_type": "markdown",
   "id": "bafaa483-e055-4169-98e4-5832b3f97029",
   "metadata": {},
   "source": [
    "## RMSprop (**R**oot **M**ean **S**quare **Prop**agation)\n",
    "\n",
    "- unpublished improvement of AdaGrad [proposed 2012 by Geoffrey Hinton](https://www.cs.toronto.edu/~tijmen/csc321/slides/lecture_slides_lec6.pdf)\n",
    "- only norm updates by most recent gradients"
   ]
  },
  {
   "cell_type": "code",
   "execution_count": 12,
   "id": "a41a537d-59ec-46b2-a0a1-ef1890049d0f",
   "metadata": {},
   "outputs": [],
   "source": [
    "class RMSprop(Optimizer):\n",
    "    def __init__(self, params, lr=1e-4, momentum=0, epsilon=1e-8, alpha=0.99):\n",
    "        super().__init__(params, lr, momentum)\n",
    "        self.G = [0] * len(self.params)\n",
    "        self.epsilon = epsilon\n",
    "        self.alpha = alpha\n",
    "    \n",
    "    @torch.no_grad()\n",
    "    def step(self):\n",
    "        for i, param in enumerate(self.params):\n",
    "            # let previously recorded gradients decay exponentially and add new gradients \n",
    "            self.G[i] = self.alpha * self.G[i] + (1 - self.alpha) * param.grad * param.grad\n",
    "            param -= self.lr * param.grad / (self.epsilon + torch.sqrt(self.G[i]))"
   ]
  },
  {
   "cell_type": "markdown",
   "id": "bc66b236-011d-40af-b109-d0da69b9caa7",
   "metadata": {},
   "source": [
    "## Adam (**Ada**ptive **m**oment estimation):\n",
    "\n",
    "- Kingma et al. (2017): [Adam: A Method for Stochastic Optimization](https://doi.org/10.48550/arXiv.1412.6980)\n",
    "- combines advantages of AdaGrad and RMSprop\n",
    "- estimates of 1st and 2nd momentum are initialized as 0 vectors\n",
    "- therefore biased towards 0\n",
    "- Adam performs bias correction\n",
    "- robust regarding scaling of gradients\n",
    "- implicit step size annealing\n",
    "- newest upgrade: AdamW"
   ]
  },
  {
   "cell_type": "code",
   "execution_count": 13,
   "id": "1bf1f27a-20d3-4249-9f50-bc720db4cda3",
   "metadata": {},
   "outputs": [],
   "source": [
    "class Adam(Optimizer):\n",
    "    def __init__(self, params, lr=1e-4, momentum=0, epsilon=1e-8, betas=(0.9, 0.999)):\n",
    "        super().__init__(params, lr, momentum)\n",
    "        # this initialization with 0 is actually problematic\n",
    "        # will cause the moment estimations to be biased towards 0\n",
    "        self.m = [0] * len(self.params)\n",
    "        self.v = [0] * len(self.params)\n",
    "        # let's record the number of update steps\n",
    "        # bias will become less relevant with more observations\n",
    "        self.t = 0\n",
    "        self.epsilon = epsilon\n",
    "        self.betas = betas\n",
    "\n",
    "    @torch.no_grad()\n",
    "    def step(self):\n",
    "        self.t += 1\n",
    "        for i, param in enumerate(self.params):\n",
    "            # estimate of the first moment (mean)\n",
    "            self.m[i] = self.betas[0] * self.m[i] + (1 - self.betas[0]) * param.grad\n",
    "            # similar to RMSprop, here it is beta[1] instead of alpha\n",
    "            # estimate of the second moment (centered variance)\n",
    "            self.v[i] = self.betas[1] * self.v[i] + (1 - self.betas[1]) * param.grad * param.grad\n",
    "            # initialization bias correction\n",
    "            m_hat = self.m[i] / (1 - self.betas[0]**self.t)\n",
    "            v_hat = self.v[i] / (1 - self.betas[1]**self.t)\n",
    "            # add epsilon to avoid division by zero\n",
    "            param -= self.lr * self.m[i] / (self.epsilon + torch.sqrt(self.v[i]))"
   ]
  },
  {
   "cell_type": "code",
   "execution_count": 14,
   "id": "bc29ccf3-8f71-46bd-9ce3-55f6077fc08b",
   "metadata": {
    "scrolled": true
   },
   "outputs": [
    {
     "name": "stdout",
     "output_type": "stream",
     "text": [
      "OPTIMIZER: SDG\n"
     ]
    },
    {
     "data": {
      "application/vnd.jupyter.widget-view+json": {
       "model_id": "31431c7e6b404a1d82e0ce2b05b29e8d",
       "version_major": 2,
       "version_minor": 0
      },
      "text/plain": [
       "  0%|          | 0/3 [00:00<?, ?it/s]"
      ]
     },
     "metadata": {},
     "output_type": "display_data"
    },
    {
     "name": "stdout",
     "output_type": "stream",
     "text": [
      "test accuracy: 0.8741000294685364\n",
      "---------------------------------------------------------\n",
      "OPTIMIZER: AdaGrad\n"
     ]
    },
    {
     "data": {
      "application/vnd.jupyter.widget-view+json": {
       "model_id": "deae9f3fa1d34a6f84adfc198bef6acf",
       "version_major": 2,
       "version_minor": 0
      },
      "text/plain": [
       "  0%|          | 0/3 [00:00<?, ?it/s]"
      ]
     },
     "metadata": {},
     "output_type": "display_data"
    },
    {
     "name": "stdout",
     "output_type": "stream",
     "text": [
      "test accuracy: 0.9312000274658203\n",
      "---------------------------------------------------------\n",
      "OPTIMIZER: RMSprop\n"
     ]
    },
    {
     "data": {
      "application/vnd.jupyter.widget-view+json": {
       "model_id": "6dd5e0dc900f4a80802a6788df14b4c3",
       "version_major": 2,
       "version_minor": 0
      },
      "text/plain": [
       "  0%|          | 0/3 [00:00<?, ?it/s]"
      ]
     },
     "metadata": {},
     "output_type": "display_data"
    },
    {
     "name": "stdout",
     "output_type": "stream",
     "text": [
      "test accuracy: 0.9876999855041504\n",
      "---------------------------------------------------------\n",
      "OPTIMIZER: Adam\n"
     ]
    },
    {
     "data": {
      "application/vnd.jupyter.widget-view+json": {
       "model_id": "be647d8330c542e98465675d9251bb27",
       "version_major": 2,
       "version_minor": 0
      },
      "text/plain": [
       "  0%|          | 0/3 [00:00<?, ?it/s]"
      ]
     },
     "metadata": {},
     "output_type": "display_data"
    },
    {
     "name": "stdout",
     "output_type": "stream",
     "text": [
      "test accuracy: 0.9876000285148621\n",
      "---------------------------------------------------------\n"
     ]
    }
   ],
   "source": [
    "optimizers2 = {\n",
    "    \"SDG\": SGD(model.parameters(), lr=lr),\n",
    "    \"AdaGrad\": AdaGrad(model.parameters(), lr=lr),\n",
    "    \"RMSprop\": RMSprop(model.parameters(), lr=lr),\n",
    "    \"Adam\": Adam(model.parameters(), lr=lr),\n",
    "}\n",
    "\n",
    "ls2 = {}\n",
    "for opt_name, optimizer in optimizers2.items():\n",
    "    print(f\"OPTIMIZER: {opt_name}\")\n",
    "    # reset model\n",
    "    model.load_state_dict(init_state)\n",
    "    ls2[opt_name] = []\n",
    "    for epoch in trange(epochs):\n",
    "        ls2[opt_name] += train(model, optimizer, train_dl)\n",
    "    acc = test(model, test_dl)\n",
    "    print(f\"test accuracy: {acc}\")\n",
    "    print(\"---\" * 19)"
   ]
  },
  {
   "cell_type": "code",
   "execution_count": 15,
   "id": "94f56b59-5a76-49dd-9e5b-5951b4cf15f3",
   "metadata": {},
   "outputs": [
    {
     "data": {
      "image/png": "[encoded data removed]",
      "text/plain": [
       "<Figure size 432x288 with 1 Axes>"
      ]
     },
     "metadata": {
      "needs_background": "light"
     },
     "output_type": "display_data"
    }
   ],
   "source": [
    "for opt_name, l in ls2.items():\n",
    "    plt.plot(l, label=opt_name, linestyle=\"--\")\n",
    "\n",
    "plt.legend()\n",
    "plt.title(\"MNIST Train Losses for different Optimizers\")\n",
    "plt.xlabel(\"Train Step\")\n",
    "plt.ylabel(\"Cross Entropy Loss\")\n",
    "plt.show()"
   ]
  },
  {
   "cell_type": "markdown",
   "id": "6c931ee4-e0a0-429a-ac15-ad9ef08c2fd7",
   "metadata": {},
   "source": [
    "# Learning Rate Scheduling"
   ]
  },
  {
   "cell_type": "markdown",
   "id": "7473d660-5126-466c-ac74-5cdd23cba1e1",
   "metadata": {},
   "source": [
    "- by default, PyTorch does NOT automatically reduce the learning rate over time!\n",
    "- the same learning rate is used over training\n",
    "- if the learning rate is too big, the model might fail to learn anything at all\n",
    "- if the learning rate is too small, the training might be over before the model achieves anything\n",
    "- for complex training scenarios, use **Learning Rate Schedulers**\n",
    "- see here for [PyTorch Lightning](https://lightning.ai/docs/pytorch/stable/common/optimization.html)\n",
    "\n",
    "```python\n",
    "import torch\n",
    "import torch.optim as optim\n",
    "from torch.optim import lr_scheduler\n",
    "\n",
    "scheduler = lr_scheduler.LinearLR(optimizer, start_factor=1.0, end_factor=0.3, total_iters=10)\n",
    "```"
   ]
  },
  {
   "cell_type": "code",
   "execution_count": null,
   "id": "2d5103f6-8640-4343-8df9-1123b5b38903",
   "metadata": {},
   "outputs": [],
   "source": []
  }
 ],
 "metadata": {
  "kernelspec": {
   "display_name": "Python 3 (ipykernel)",
   "language": "python",
   "name": "python3"
  },
  "language_info": {
   "codemirror_mode": {
    "name": "ipython",
    "version": 3
   },
   "file_extension": ".py",
   "mimetype": "text/x-python",
   "name": "python",
   "nbconvert_exporter": "python",
   "pygments_lexer": "ipython3",
   "version": "3.9.2"
  }
 },
 "nbformat": 4,
 "nbformat_minor": 5
}
