{
 "cells": [
  {
   "cell_type": "markdown",
   "id": "2f58e974-7ba1-41dd-a670-b0b7358b49dd",
   "metadata": {},
   "source": [
    "# Plattschnacker"
   ]
  },
  {
   "cell_type": "markdown",
   "id": "8a3dbc8b-c920-4f18-92b5-da4cbafd7cad",
   "metadata": {},
   "source": [
    "- objective: en-nds translator\n",
    "- inspired by the [Översetter](https://www.översetter.de/)\n",
    "- download en-nds sentence pairs from [tatoeba](https://tatoeba.org/de/downloads) and from [Wikimatrix](https://github.com/facebookresearch/LASER/tree/main/tasks/WikiMatrix)\n",
    "- "
   ]
  },
  {
   "cell_type": "code",
   "execution_count": null,
   "id": "8f97673a-68a6-4727-a5c7-7309c47301a8",
   "metadata": {},
   "outputs": [],
   "source": []
  }
 ],
 "metadata": {
  "kernelspec": {
   "display_name": "Python 3 (ipykernel)",
   "language": "python",
   "name": "python3"
  },
  "language_info": {
   "codemirror_mode": {
    "name": "ipython",
    "version": 3
   },
   "file_extension": ".py",
   "mimetype": "text/x-python",
   "name": "python",
   "nbconvert_exporter": "python",
   "pygments_lexer": "ipython3",
   "version": "3.9.2"
  }
 },
 "nbformat": 4,
 "nbformat_minor": 5
}
