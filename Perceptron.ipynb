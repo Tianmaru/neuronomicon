{
 "cells": [
  {
   "cell_type": "markdown",
   "id": "9be9fe42-4306-40b1-a214-35951ef0d730",
   "metadata": {},
   "source": [
    "# Neural Networks from Scratch"
   ]
  },
  {
   "cell_type": "markdown",
   "id": "31350e61-dbb3-487b-95d2-57e09ee34b04",
   "metadata": {},
   "source": [
    "- Alan Turing \"Computing Machinery and Intelligence\" (1950): Can machines think? \n",
    "- How do humans think? Probably with their brain and its neurons...\n",
    "- McCullogh searched for atomic mental event, the \"psychon\", from which thoughts are constructed\n",
    "- similar to how logic sentences are constructed from propositions\n",
    "- found them in the All-or-Nothing Nature of neurons\n",
    "- Walter Pitts and Warren McCullogh (1943): [A logical calculus of the ideas immanent in nervous activity](https://doi.org/10.1007/BF02478259)\n",
    "- Frank Rosenblatt: Perceptron\n",
    "- Minsky and Paperts book \"Perceptrons\" (1969): showed limitations of perceptrons, unable to compute XOR function\n",
    "- said to have caused first AI winter (however, Multi-Layer Perceptrons were already known at the time)\n",
    "- "
   ]
  },
  {
   "cell_type": "markdown",
   "id": "0dd7d8aa-9dc5-4b3b-b239-4fcb735f5d8c",
   "metadata": {},
   "source": [
    "## Neurophysiology\n",
    "\n",
    "- from Pitts and McCullogh: \"nervous system is a net of neurons\"\n",
    "- neuron: cell that is specialized on conducting electric signals\n",
    "- neurons listen to signals from other neurons via the receptors of their *dendrits* (\"ears of the neuron\")\n",
    "- word dendrit from greek *dendron*: tree/belonging to the tree, since dendrits tend to branch out\n",
    "- incoming signals are bundled at the *axon hillock* of the neurons soma\n",
    "- if the total excitation exceeds the neurons threshold potential, the axon fires an electrochemical signal called *action potential*\n",
    "- *All-or-Nothing* law: if the neuron fires, it will always fire with maximum response\n",
    "- action potential travels along the neuron's *axon*\n",
    "- axon terminals are connected to the dendrites of another neuron (connecting structure is called *synapse*)\n",
    "- triggered by the electric signal, the axon terminals will release neurotransmitters into the *synaptic gap*\n",
    "- neurotransmitters will transport the signal accross the gap from the pre-synaptic to the post-synaptic neuron\n",
    "\n",
    "Notes\n",
    "\n",
    "- different kinds of neurotransmitters and receptors\n",
    "- some can also *inhibit* the signal by lowering the post-synaptic's *resting membrane potential*\n",
    "- functionally connected neurons from a *neural circuit*\n",
    "- *neurite*: projection of a neuron, either axon or dendrite\n",
    "- "
   ]
  },
  {
   "cell_type": "markdown",
   "id": "c3b9be9d-9633-4318-965c-55ac2e98ac3c",
   "metadata": {},
   "source": [
    "## The Perceptron"
   ]
  },
  {
   "cell_type": "markdown",
   "id": "26d4c907-9b9f-4939-afba-e20defa3ddfe",
   "metadata": {},
   "source": []
  }
 ],
 "metadata": {
  "kernelspec": {
   "display_name": "Python 3 (ipykernel)",
   "language": "python",
   "name": "python3"
  },
  "language_info": {
   "codemirror_mode": {
    "name": "ipython",
    "version": 3
   },
   "file_extension": ".py",
   "mimetype": "text/x-python",
   "name": "python",
   "nbconvert_exporter": "python",
   "pygments_lexer": "ipython3",
   "version": "3.9.2"
  }
 },
 "nbformat": 4,
 "nbformat_minor": 5
}
