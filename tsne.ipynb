{
 "cells": [
  {
   "cell_type": "markdown",
   "id": "825cf388",
   "metadata": {},
   "source": [
    "# t-SNE\n",
    "\n",
    "*Author: Bjarne Hiller*\n",
    "\n",
    "In this notebook, we will implement t-SNE (t-distributed stochastic neighbor embedding). t-SNE is a *nonlinear* dimensionality reduction algorithm developed by Laurens van der Maaten and Geoffrey Hinton in 2008 (see [original paper](https://www.jmlr.org/papers/volume9/vandermaaten08a/vandermaaten08a.pdf))."
   ]
  },
  {
   "cell_type": "code",
   "execution_count": 1,
   "id": "62f95898",
   "metadata": {},
   "outputs": [
    {
     "name": "stdout",
     "output_type": "stream",
     "text": [
      "(100, 20)\n"
     ]
    },
    {
     "data": {
      "text/plain": [
       "<matplotlib.collections.PathCollection at 0x7f4faac476d0>"
      ]
     },
     "execution_count": 1,
     "metadata": {},
     "output_type": "execute_result"
    },
    {
     "data": {
      "image/png": "[encoded data removed]",
      "text/plain": [
       "<Figure size 432x288 with 1 Axes>"
      ]
     },
     "metadata": {
      "needs_background": "light"
     },
     "output_type": "display_data"
    }
   ],
   "source": [
    "import numpy as np\n",
    "import matplotlib.pyplot as plt\n",
    "\n",
    "np.random.seed(19)\n",
    "\n",
    "# first, let's create a highdimensional dataset\n",
    "\n",
    "from sklearn.datasets import make_classification, make_blobs\n",
    "\n",
    "X, y = make_classification(n_samples=100, n_classes=3, n_informative=15, n_clusters_per_class=1)\n",
    "#X, y = make_blobs(n_samples=100, centers=3, n_features=10)\n",
    "\n",
    "print(X.shape)\n",
    "plt.scatter(X[:,0], X[:,1], c=y)"
   ]
  },
  {
   "cell_type": "markdown",
   "id": "03bf250f-631b-4a65-8c37-8df09d86c222",
   "metadata": {},
   "source": [
    "## Similarities\n",
    "\n",
    "- want to compute a map from the high-dimensional space into visualizable 2 or 3 dimensions\n",
    "- want to keep structure of the data: similar points should be close together, dissimilar points should be far away\n",
    "- need methods to compute the distances between points"
   ]
  },
  {
   "cell_type": "code",
   "execution_count": 2,
   "id": "145a3b80-2b9e-4d99-86ae-aac17f886329",
   "metadata": {},
   "outputs": [],
   "source": [
    "import numpy as np\n",
    "from numpy.linalg import norm\n",
    "\n",
    "def pairdiff(X):\n",
    "    \"\"\"Returns a matrix M[i,j] -> x_i - x_j\"\"\"\n",
    "    MX = np.repeat(X[:,np.newaxis,:], len(X), axis=1) # repeat elements on columns\n",
    "    MXT = MX.transpose(1, 0, 2) # (n,n,2), idx on second\n",
    "    return MX - MXT\n",
    "\n",
    "def distances(X):\n",
    "    \"\"\"Returns a matrix M[i,j] -> euclidean distance between x_i and x_j\"\"\"\n",
    "    return norm(pairdiff(X), axis=2)"
   ]
  },
  {
   "cell_type": "markdown",
   "id": "c4dbd628",
   "metadata": {},
   "source": [
    "# Probability Distributions\n",
    "\n",
    "- Based on the distances, we can compute similarity scores\n",
    "- similarity of two points should be higher, if distance is small, and vice versa\n",
    "- can represent similarity scores as probability distributions: \"How likely is it, that point i will choose point j as its neighbor?\"\n",
    "\n",
    "Conditional Gaussian Distribution for higher dimensional space:\n",
    "$$\n",
    "p_{j|i} = \\frac{\\exp(-||x_i - x_j||^2 / 2 \\sigma_i^2)}{\\sum_{k\\neq i} \\exp(-||x_i - x_k||^2 / 2 \\sigma_i^2)}\n",
    "$$\n",
    "\n",
    "- however, conditional probability distribution is not symmetric\n",
    "- if point i is to 99% likely to choose j as neighbor, then j could choose i only with 1% probability\n",
    "- this doesn't make sense: the distribution should be symmetric to reflect similarities\n",
    "- also, this simplifies computation later on\n",
    "\n",
    "Construct symmetric joint probability distribution:\n",
    "$$\n",
    "p_{ij} = \\frac{p_{i|j} + p_{j|i}}{2n}\n",
    "$$\n",
    "\n",
    "- in normal SNE, we would choose the same method to construct the distribution for the low dimensional map\n",
    "- however, this often leads to the *crowding problem*\n",
    "- small forces of distant points add up to drag all points to the center of the map\n",
    "- t-SNE uses the student t-distribution for the lower dimensional map\n",
    "- t-distribution is more heavy-tailed than normal distribution\n",
    "- this ensures, that for distant points, $q_{ij}$ (map similarity) will be slightly greater than $p_{ij}$ (space similarity)\n",
    "- adds a small repulsive force, to keep dissimilar points away from each other\n",
    "\n",
    "t-Distribution for lower dimensional map:\n",
    "$$\n",
    "q_{ij} = \\frac{(1 + ||y_i - y_j||^2)^{-1}}{\\sum_{k \\neq l} (1 + ||y_k - y_l||^2)^{-1}}\n",
    "$$"
   ]
  },
  {
   "cell_type": "code",
   "execution_count": 3,
   "id": "3e810f65",
   "metadata": {},
   "outputs": [],
   "source": [
    "def cprob(X, sigma):\n",
    "    \"\"\"Returns a Matrix P[i,j] -> p(i|j), the probability that point j would choose point i as neighbor.\"\"\"\n",
    "    D = distances(X)\n",
    "    # divide each column by corresponding sigma\n",
    "    E = np.exp(- np.power(D,2) / (2 * np.power(sigma, 2)))\n",
    "    # mask out distances to self, which are 1 after exp(0)\n",
    "    np.fill_diagonal(E, 0)\n",
    "    # normalize each column\n",
    "    return E / E.sum(0)\n",
    "\n",
    "def symmetrize(P):\n",
    "    \"\"\"Computes a symmetric joint probability distribution.\"\"\"\n",
    "    return (P + P.T) / (2 * len(P))\n",
    "\n",
    "def tprob(Y):\n",
    "    \"\"\"Returns a symmetric Matrix P[i,j] -> similarity scores for the low-dimensional map.\"\"\"\n",
    "    D = distances(Y)\n",
    "    E = 1 / (1 + np.power(D, 2))\n",
    "    np.fill_diagonal(E, 0) # mask out distances to self\n",
    "    Q = E / E.sum()\n",
    "    return Q"
   ]
  },
  {
   "cell_type": "markdown",
   "id": "0b4e7bd5",
   "metadata": {},
   "source": [
    "## Gradient\n",
    "\n",
    "- now, we can compare the distributions of the lower-dimensional map and the higher-dimensional space\n",
    "- if the map is any good, the probability distributions should be similar\n",
    "- to compare probability distributions, we can use the *Kullback-Leibler-Divergence*\n",
    "\n",
    "$$\n",
    "KL(P||Q) = \\sum_i \\sum_j p_{ij} \\log \\frac{p_{ij}}{q_{ij}}\n",
    "$$\n",
    "\n",
    "- now we can just use gradient descent to minimize the Kullback-Leibler-Divergence\n",
    "- the gradient is surprisingly simple and is given by:\n",
    "\n",
    "$$\n",
    "\\frac{\\partial C}{\\partial y_i} = 4 \\sum_j \\frac{(p_{ij} - q_{ij}) (y_i - y_j)}{(1+||y_i - y_j||^2)}\n",
    "$$"
   ]
  },
  {
   "cell_type": "code",
   "execution_count": 4,
   "id": "bfd5e4c1-723e-4211-9acd-883a8e9db301",
   "metadata": {},
   "outputs": [],
   "source": [
    "def gradients(P, Q, Y):\n",
    "    # returns an array g -> (n,2) with gradients for all y_i\n",
    "    # P, Q -> (i,j), Y -> (n,2)\n",
    "    dy = pairdiff(Y).transpose(2,0,1) # transpose for broadcasting\n",
    "    D = distances(Y)\n",
    "    a = (P - Q) * dy\n",
    "    b = 1 + np.power(D, 2)\n",
    "    return 4 * (a / b).sum(2).T # transpose back to (n,2)"
   ]
  },
  {
   "cell_type": "markdown",
   "id": "67a8c50e-1b40-4654-9cf4-78f63ed4b48c",
   "metadata": {},
   "source": [
    "# Shannon Entropy and Perplexity\n",
    "\n",
    "- but how to find the parameter $\\sigma$ for computing the probability distribution in the high-dimensional space?\n",
    "- with increasing $\\sigma$, the more probability gets assigned to distant points\n",
    "- therefore configuring $\\sigma$ allows to set focus on local or global structure\n",
    "- probably requires different $\\sigma$ for each point, since the point density might vary\n",
    "- however, want to provide some option to the user, which is more interpretable\n",
    "- perplexity is based on shannon entropy, can be interpreted as number of effective neighbors for each point\n",
    "- perplexity increases monotonically with variance $\\sigma^2$\n",
    "\n",
    "Shannon Entropy:\n",
    "$$\n",
    "H(P_i) = - \\sum_j p_{j|i} \\log_2 p_{j|i}\n",
    "$$\n",
    "\n",
    "Perplexity:\n",
    "$$\n",
    "Perp(P_i) = 2^{H(P_i)}\n",
    "$$"
   ]
  },
  {
   "cell_type": "code",
   "execution_count": 5,
   "id": "17ed63e1-a8d8-4a47-ac19-f53c0c1066f4",
   "metadata": {},
   "outputs": [],
   "source": [
    "def entropy(P_ij):\n",
    "    \"\"\"Computes the Shanon Entropy for a given matrix of conditional probability distributions.\"\"\"\n",
    "    # P_ji contains 0 on the main diagonal, would become -inf after log\n",
    "    # since we multiply with the probability of 0 anyway, we can mask 0 values out\n",
    "    P_masked = np.where(P_ij == 0, 1, P_ij)\n",
    "    # np.fill_diagonal(P_masked, 1)\n",
    "    # returns the mean number of bits required to encode a random neighbor\n",
    "    return -(P_ij * np.log2(P_masked)).sum(0)\n",
    "\n",
    "def perp(P_ij):\n",
    "    \"\"\"Computes the Perplexity for a given conditional probability distribution.\"\"\"\n",
    "    return np.power(2, entropy(P_ij))\n",
    "\n",
    "def find_sigma(X, target_perp, max_iter=50, tol=1e-4):\n",
    "    \"\"\"Performs a binary search to find the sigmas that fit the given perplexity.\"\"\"\n",
    "    sigma = np.ones(len(X))\n",
    "    sigma_min = np.zeros(len(X))\n",
    "    sigma_max = np.ones(len(X)) * np.inf\n",
    "    for i in range(max_iter):\n",
    "        P_ij = cprob(X, sigma)\n",
    "        d = perp(P_ij) - target_perp\n",
    "        # if perplexity is lower than target, increase sigma to increase perplexity\n",
    "        sigma_min = np.where(d < 0, sigma, sigma_min)\n",
    "        sigma = np.where((d < 0) & np.isinf(sigma_max), sigma * 2, sigma)\n",
    "        sigma = np.where((d < 0) & (~np.isinf(sigma_max)), (sigma + sigma_max) / 2, sigma)\n",
    "        # if perplexity is greater than target, decrease sigma to decrease perplexity\n",
    "        sigma_max = np.where(d > 0, sigma, sigma_max)\n",
    "        sigma = np.where(d > 0, (sigma_min + sigma) / 2, sigma)\n",
    "    return sigma"
   ]
  },
  {
   "cell_type": "markdown",
   "id": "4d0ce3f1-7018-428b-aa7e-f903772db492",
   "metadata": {},
   "source": [
    "## Welcome to t-SNE-land!"
   ]
  },
  {
   "cell_type": "code",
   "execution_count": 6,
   "id": "c5342720-1a84-455e-b117-40d3d2892269",
   "metadata": {},
   "outputs": [],
   "source": [
    "from tqdm.notebook import trange\n",
    "\n",
    "def tsne(X, perplexity=30, n_iter=1000, lr=1):\n",
    "    # initialize an array of random 2d points sampled from a gaussian\n",
    "    # paper recommends starting with a small scale, so clusters can easily pass through another\n",
    "    Y = np.random.normal(size=(len(X), 2), scale=1e-4)\n",
    "    # find the best variance sigma for the given perplexity\n",
    "    sigma = find_sigma(X, perplexity)\n",
    "    # define the conditional probability distribution on the high-dimensional space\n",
    "    P_ij = cprob(X, sigma)\n",
    "    # use the symmetric joint probability distribution for simpler gradients\n",
    "    P = symmetrize(P_ij)\n",
    "    for i in trange(n_iter):\n",
    "        # compute the probability distribution on the low-dimensional map\n",
    "        Q = tprob(Y)\n",
    "        # perform gradient descent\n",
    "        Y -= lr * gradients(P, Q, Y)\n",
    "    return Y"
   ]
  },
  {
   "cell_type": "code",
   "execution_count": 7,
   "id": "36407cf0-ec0b-4e04-a389-50d934321570",
   "metadata": {},
   "outputs": [
    {
     "data": {
      "application/json": {
       "ascii": false,
       "bar_format": null,
       "colour": null,
       "elapsed": 0.007100343704223633,
       "initial": 0,
       "n": 0,
       "ncols": null,
       "nrows": 57,
       "postfix": null,
       "prefix": "",
       "rate": null,
       "total": 2000,
       "unit": "it",
       "unit_divisor": 1000,
       "unit_scale": false
      },
      "application/vnd.jupyter.widget-view+json": {
       "model_id": "4fbd6e63d63c468d86d1ce4da568b415",
       "version_major": 2,
       "version_minor": 0
      },
      "text/plain": [
       "  0%|          | 0/2000 [00:00<?, ?it/s]"
      ]
     },
     "metadata": {},
     "output_type": "display_data"
    }
   ],
   "source": [
    "X2d = tsne(X, perplexity=5, lr=100, n_iter=2000)"
   ]
  },
  {
   "cell_type": "code",
   "execution_count": 8,
   "id": "c9614927-9560-4701-ad6f-d40d7930fa38",
   "metadata": {},
   "outputs": [
    {
     "data": {
      "text/plain": [
       "<matplotlib.collections.PathCollection at 0x7f4faa16cdc0>"
      ]
     },
     "execution_count": 8,
     "metadata": {},
     "output_type": "execute_result"
    },
    {
     "data": {
      "image/png": "[encoded data removed]",
      "text/plain": [
       "<Figure size 432x288 with 1 Axes>"
      ]
     },
     "metadata": {
      "needs_background": "light"
     },
     "output_type": "display_data"
    }
   ],
   "source": [
    "plt.scatter(X2d[:,0], X2d[:,1], c=y)"
   ]
  },
  {
   "cell_type": "markdown",
   "id": "4859486f",
   "metadata": {},
   "source": [
    "## Comparison with sklearn"
   ]
  },
  {
   "cell_type": "code",
   "execution_count": 9,
   "id": "5ea9af21",
   "metadata": {},
   "outputs": [
    {
     "data": {
      "text/plain": [
       "<matplotlib.collections.PathCollection at 0x7f4fa853cca0>"
      ]
     },
     "execution_count": 9,
     "metadata": {},
     "output_type": "execute_result"
    },
    {
     "data": {
      "image/png": "[encoded data removed]",
      "text/plain": [
       "<Figure size 432x288 with 1 Axes>"
      ]
     },
     "metadata": {
      "needs_background": "light"
     },
     "output_type": "display_data"
    }
   ],
   "source": [
    "from sklearn.manifold import TSNE\n",
    "\n",
    "X2d = TSNE(n_components=2, learning_rate='auto', init='random', perplexity=5).fit_transform(X)\n",
    "plt.scatter(X2d[:,0], X2d[:,1], c=y)"
   ]
  },
  {
   "cell_type": "code",
   "execution_count": null,
   "id": "c88f99ed",
   "metadata": {},
   "outputs": [],
   "source": []
  }
 ],
 "metadata": {
  "kernelspec": {
   "display_name": "Python 3 (ipykernel)",
   "language": "python",
   "name": "python3"
  },
  "language_info": {
   "codemirror_mode": {
    "name": "ipython",
    "version": 3
   },
   "file_extension": ".py",
   "mimetype": "text/x-python",
   "name": "python",
   "nbconvert_exporter": "python",
   "pygments_lexer": "ipython3",
   "version": "3.9.2"
  }
 },
 "nbformat": 4,
 "nbformat_minor": 5
}
